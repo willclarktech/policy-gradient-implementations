{
  "nbformat": 4,
  "nbformat_minor": 0,
  "metadata": {
    "accelerator": "GPU",
    "colab": {
      "name": "Policy Gradient Implementations - SAC.ipynb",
      "provenance": [],
      "collapsed_sections": [],
      "authorship_tag": "ABX9TyOxU7t75ZDboxb5ruCjL8zd",
      "include_colab_link": true
    },
    "kernelspec": {
      "display_name": "Python 3",
      "name": "python3"
    }
  },
  "cells": [
    {
      "cell_type": "markdown",
      "metadata": {
        "id": "view-in-github",
        "colab_type": "text"
      },
      "source": [
        "<a href=\"https://colab.research.google.com/github/willclarktech/policy-gradient-implementations/blob/master/notebooks/SAC.ipynb\" target=\"_parent\"><img src=\"https://colab.research.google.com/assets/colab-badge.svg\" alt=\"Open In Colab\"/></a>"
      ]
    },
    {
      "cell_type": "markdown",
      "metadata": {
        "id": "33hjFad39Xvi"
      },
      "source": [
        "# Policy Gradient Implementations: SAC"
      ]
    },
    {
      "cell_type": "code",
      "metadata": {
        "id": "aluhXzU2iIGs"
      },
      "source": [
        "%matplotlib inline\n",
        "import os\n",
        "from google.colab import files"
      ],
      "execution_count": 1,
      "outputs": []
    },
    {
      "cell_type": "code",
      "metadata": {
        "id": "qwZ58WlV8zy3"
      },
      "source": [
        "algorithm = \"sac\"\n",
        "env = \"InvertedPendulumBulletEnv-v0\"\n",
        "save_dir = \"models\""
      ],
      "execution_count": 2,
      "outputs": []
    },
    {
      "cell_type": "markdown",
      "metadata": {
        "id": "RV9QxoTj9JmW"
      },
      "source": [
        "## Install policy-gradient-implementations"
      ]
    },
    {
      "cell_type": "code",
      "metadata": {
        "colab": {
          "base_uri": "https://localhost:8080/"
        },
        "id": "JUrMMU5ew0NC",
        "outputId": "639e1be1-4821-4588-b167-c38b561acab1"
      },
      "source": [
        "!if [ ! -d ./policy-gradient-implementations ]; then git clone --depth 1 --quiet https://github.com/willclarktech/policy-gradient-implementations.git; fi\n",
        "os.chdir('./policy-gradient-implementations/')\n",
        "print(f\"Now in {os.getcwd()} at commit:\")\n",
        "!git log --oneline -n 1\n",
        "os.makedirs(f\"{save_dir}/{algorithm}_{env}\", exist_ok=True)\n",
        "!if [ ! -z COLAB_GPU ]; then pip install --no-warn-conflicts -r requirements.colab.txt 2>&1 >/dev/null; else pip install -r requirements.txt; fi"
      ],
      "execution_count": 3,
      "outputs": [
        {
          "output_type": "stream",
          "text": [
            "Now in /content/policy-gradient-implementations at commit:\n",
            "\u001b[33m3bb51e7\u001b[m\u001b[33m (\u001b[m\u001b[1;34mgrafted\u001b[m\u001b[33m, \u001b[m\u001b[1;36mHEAD -> \u001b[m\u001b[1;32mmaster\u001b[m\u001b[33m, \u001b[m\u001b[1;31morigin/master\u001b[m\u001b[33m, \u001b[m\u001b[1;31morigin/HEAD\u001b[m\u001b[33m)\u001b[m :seedling: Add TD3 model\n"
          ],
          "name": "stdout"
        }
      ]
    },
    {
      "cell_type": "markdown",
      "metadata": {
        "id": "R34nPPEg9T_5"
      },
      "source": [
        "## Run experiment"
      ]
    },
    {
      "cell_type": "code",
      "metadata": {
        "colab": {
          "base_uri": "https://localhost:8080/",
          "height": 1000
        },
        "id": "9qgIl7_h_2kk",
        "outputId": "26122f5a-65fc-4542-8d59-04f75e7001a5"
      },
      "source": [
        "import policy_gradients\n",
        "\n",
        "policy_gradients.run({\n",
        "    \"algorithm\": algorithm,\n",
        "    \"env_name\": env,\n",
        "    \"n_episodes\": 250,\n",
        "    \"log_period\": 10,\n",
        "    \"save_dir\": save_dir,\n",
        "})"
      ],
      "execution_count": 4,
      "outputs": [
        {
          "output_type": "stream",
          "text": [
            "/usr/local/lib/python3.6/dist-packages/gym/logger.py:30: UserWarning: \u001b[33mWARN: Box bound precision lowered by casting to float32\u001b[0m\n",
            "  warnings.warn(colorize('%s: %s'%('WARN', msg % args), 'yellow'))\n"
          ],
          "name": "stderr"
        },
        {
          "output_type": "stream",
          "text": [
            "Algorithm: sac\n",
            "Hyperparameters:\n",
            "{'algorithm': 'sac',\n",
            " 'alpha': 0.0003,\n",
            " 'batch_size': 256,\n",
            " 'env_name': 'InvertedPendulumBulletEnv-v0',\n",
            " 'epsilon': 1e-06,\n",
            " 'gamma': 0.99,\n",
            " 'hidden_features': [256, 256],\n",
            " 'log_period': 10,\n",
            " 'n_episodes': 250,\n",
            " 'replay_buffer_capacity': 1000000,\n",
            " 'reward_scale': 2.0,\n",
            " 'tau': 0.005}\n",
            "Starting training...\n",
            "Episode 10; Return 23.0; Average return 22.8\n"
          ],
          "name": "stdout"
        },
        {
          "output_type": "stream",
          "text": [
            "/content/policy-gradient-implementations/policy_gradients/core.py:69: UserWarning: To copy construct from a tensor, it is recommended to use sourceTensor.clone().detach() or sourceTensor.clone().detach().requires_grad_(True), rather than torch.tensor(sourceTensor).\n",
            "  return T.tensor(observation, dtype=dtype).to(self.device)\n"
          ],
          "name": "stderr"
        },
        {
          "output_type": "stream",
          "text": [
            "Episode 20; Return 24.0; Average return 23.6\n",
            "Episode 30; Return 17.0; Average return 22.766666666666666\n",
            "Episode 40; Return 23.0; Average return 24.15\n",
            "Episode 50; Return 29.0; Average return 24.54\n",
            "Episode 60; Return 72.0; Average return 29.766666666666666\n",
            "Episode 70; Return 109.0; Average return 43.51428571428571\n",
            "Episode 80; Return 222.0; Average return 65.725\n",
            "Episode 90; Return 287.0; Average return 83.93333333333334\n",
            "Episode 100; Return 338.0; Average return 103.93\n",
            "Episode 110; Return 184.0; Average return 125.87\n",
            "Episode 120; Return 236.0; Average return 149.3\n",
            "Episode 130; Return 339.0; Average return 171.82\n",
            "Episode 140; Return 195.0; Average return 192.74\n",
            "Episode 150; Return 268.0; Average return 217.29\n",
            "Episode 160; Return 330.0; Average return 243.77\n",
            "Episode 170; Return 255.0; Average return 270.6\n",
            "Episode 180; Return 302.0; Average return 308.1\n",
            "Episode 190; Return 1000.0; Average return 375.14\n",
            "Episode 200; Return 1000.0; Average return 446.75\n",
            "Episode 210; Return 1000.0; Average return 522.53\n",
            "Episode 220; Return 1000.0; Average return 596.66\n",
            "Episode 230; Return 1000.0; Average return 669.03\n",
            "Episode 240; Return 1000.0; Average return 738.79\n",
            "Episode 250; Return 1000.0; Average return 811.63\n"
          ],
          "name": "stdout"
        },
        {
          "output_type": "display_data",
          "data": {
            "image/png": "[encoded data removed]",
            "text/plain": [
              "<Figure size 432x288 with 1 Axes>"
            ]
          },
          "metadata": {
            "tags": [],
            "needs_background": "light"
          }
        },
        {
          "output_type": "stream",
          "text": [
            "Finished training\n"
          ],
          "name": "stdout"
        },
        {
          "output_type": "execute_result",
          "data": {
            "text/plain": [
              "<policy_gradients.sac.agent.Agent at 0x7f2541f2e0f0>"
            ]
          },
          "metadata": {
            "tags": []
          },
          "execution_count": 4
        }
      ]
    },
    {
      "cell_type": "markdown",
      "metadata": {
        "id": "Ivuop3xKtGnB"
      },
      "source": [
        "## Download models"
      ]
    },
    {
      "cell_type": "code",
      "metadata": {
        "colab": {
          "base_uri": "https://localhost:8080/",
          "height": 102
        },
        "id": "jQfARw-hDJ4x",
        "outputId": "1f39745f-bdb4-4e07-ac41-c83bf0b4cf74"
      },
      "source": [
        "!zip -r ./models.zip ./models/sac_InvertedPendulumBulletEnv-v0\n",
        "files.download('./models.zip')"
      ],
      "execution_count": 6,
      "outputs": [
        {
          "output_type": "stream",
          "text": [
            "  adding: models/sac_InvertedPendulumBulletEnv-v0/ (stored 0%)\n",
            "  adding: models/sac_InvertedPendulumBulletEnv-v0/critic_2.zip (stored 0%)\n",
            "  adding: models/sac_InvertedPendulumBulletEnv-v0/critic_1.zip (stored 0%)\n",
            "  adding: models/sac_InvertedPendulumBulletEnv-v0/value.zip (stored 0%)\n",
            "  adding: models/sac_InvertedPendulumBulletEnv-v0/actor.zip (stored 0%)\n"
          ],
          "name": "stdout"
        },
        {
          "output_type": "display_data",
          "data": {
            "application/javascript": [
              "\n",
              "    async function download(id, filename, size) {\n",
              "      if (!google.colab.kernel.accessAllowed) {\n",
              "        return;\n",
              "      }\n",
              "      const div = document.createElement('div');\n",
              "      const label = document.createElement('label');\n",
              "      label.textContent = `Downloading \"${filename}\": `;\n",
              "      div.appendChild(label);\n",
              "      const progress = document.createElement('progress');\n",
              "      progress.max = size;\n",
              "      div.appendChild(progress);\n",
              "      document.body.appendChild(div);\n",
              "\n",
              "      const buffers = [];\n",
              "      let downloaded = 0;\n",
              "\n",
              "      const channel = await google.colab.kernel.comms.open(id);\n",
              "      // Send a message to notify the kernel that we're ready.\n",
              "      channel.send({})\n",
              "\n",
              "      for await (const message of channel.messages) {\n",
              "        // Send a message to notify the kernel that we're ready.\n",
              "        channel.send({})\n",
              "        if (message.buffers) {\n",
              "          for (const buffer of message.buffers) {\n",
              "            buffers.push(buffer);\n",
              "            downloaded += buffer.byteLength;\n",
              "            progress.value = downloaded;\n",
              "          }\n",
              "        }\n",
              "      }\n",
              "      const blob = new Blob(buffers, {type: 'application/binary'});\n",
              "      const a = document.createElement('a');\n",
              "      a.href = window.URL.createObjectURL(blob);\n",
              "      a.download = filename;\n",
              "      div.appendChild(a);\n",
              "      a.click();\n",
              "      div.remove();\n",
              "    }\n",
              "  "
            ],
            "text/plain": [
              "<IPython.core.display.Javascript object>"
            ]
          },
          "metadata": {
            "tags": []
          }
        },
        {
          "output_type": "display_data",
          "data": {
            "application/javascript": [
              "download(\"download_06cffd36-3eb8-401f-adef-23ffc2949b42\", \"models.zip\", 1095919)"
            ],
            "text/plain": [
              "<IPython.core.display.Javascript object>"
            ]
          },
          "metadata": {
            "tags": []
          }
        }
      ]
    },
    {
      "cell_type": "code",
      "metadata": {
        "id": "opXlY3lGWRBp"
      },
      "source": [
        ""
      ],
      "execution_count": null,
      "outputs": []
    }
  ]
}