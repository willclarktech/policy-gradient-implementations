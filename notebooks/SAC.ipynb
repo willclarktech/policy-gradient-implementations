{
  "nbformat": 4,
  "nbformat_minor": 0,
  "metadata": {
    "accelerator": "GPU",
    "colab": {
      "name": "Policy Gradient Implementations - SAC.ipynb",
      "provenance": [],
      "collapsed_sections": [],
      "authorship_tag": "ABX9TyOsRQmPDJGjmplYOMqTS93s",
      "include_colab_link": true
    },
    "kernelspec": {
      "display_name": "Python 3",
      "name": "python3"
    }
  },
  "cells": [
    {
      "cell_type": "markdown",
      "metadata": {
        "id": "view-in-github",
        "colab_type": "text"
      },
      "source": [
        "<a href=\"https://colab.research.google.com/github/willclarktech/policy-gradient-implementations/blob/master/notebooks/SAC.ipynb\" target=\"_parent\"><img src=\"https://colab.research.google.com/assets/colab-badge.svg\" alt=\"Open In Colab\"/></a>"
      ]
    },
    {
      "cell_type": "markdown",
      "metadata": {
        "id": "33hjFad39Xvi"
      },
      "source": [
        "# Policy Gradient Implementations: SAC"
      ]
    },
    {
      "cell_type": "code",
      "metadata": {
        "id": "aluhXzU2iIGs"
      },
      "source": [
        "%matplotlib inline\n",
        "import os\n",
        "from google.colab import files"
      ],
      "execution_count": 1,
      "outputs": []
    },
    {
      "cell_type": "code",
      "metadata": {
        "id": "qwZ58WlV8zy3"
      },
      "source": [
        "algorithm = \"sac\"\n",
        "env = \"InvertedPendulumBulletEnv-v0\"\n",
        "save_dir = \"models\"\n",
        "seed = 123456"
      ],
      "execution_count": 2,
      "outputs": []
    },
    {
      "cell_type": "markdown",
      "metadata": {
        "id": "RV9QxoTj9JmW"
      },
      "source": [
        "## Install policy-gradient-implementations"
      ]
    },
    {
      "cell_type": "code",
      "metadata": {
        "colab": {
          "base_uri": "https://localhost:8080/"
        },
        "id": "JUrMMU5ew0NC",
        "outputId": "876aa01a-8e91-4898-9636-c93c329a8304"
      },
      "source": [
        "!if [ ! -d ./policy-gradient-implementations ]; then git clone --depth 1 --quiet https://github.com/willclarktech/policy-gradient-implementations.git; fi\n",
        "os.chdir('./policy-gradient-implementations/')\n",
        "print(f\"Now in {os.getcwd()} at commit:\")\n",
        "!git log --oneline -n 1\n",
        "os.makedirs(f\"{save_dir}/{algorithm}_{env}\", exist_ok=True)\n",
        "!if [ ! -z COLAB_GPU ]; then pip install --no-warn-conflicts -r requirements.colab.txt 2>&1 >/dev/null; else pip install -r requirements.txt; fi"
      ],
      "execution_count": 3,
      "outputs": [
        {
          "output_type": "stream",
          "text": [
            "Now in /content/policy-gradient-implementations at commit:\n",
            "\u001b[33med562dd\u001b[m\u001b[33m (\u001b[m\u001b[1;34mgrafted\u001b[m\u001b[33m, \u001b[m\u001b[1;36mHEAD -> \u001b[m\u001b[1;32mmaster\u001b[m\u001b[33m, \u001b[m\u001b[1;31morigin/master\u001b[m\u001b[33m, \u001b[m\u001b[1;31morigin/HEAD\u001b[m\u001b[33m)\u001b[m :recycle: Update DDPG model\n"
          ],
          "name": "stdout"
        }
      ]
    },
    {
      "cell_type": "markdown",
      "metadata": {
        "id": "R34nPPEg9T_5"
      },
      "source": [
        "## Run experiment"
      ]
    },
    {
      "cell_type": "code",
      "metadata": {
        "colab": {
          "base_uri": "https://localhost:8080/",
          "height": 1000
        },
        "id": "9qgIl7_h_2kk",
        "outputId": "9497f680-52ce-4d15-cd8c-803c7a3bb034"
      },
      "source": [
        "import policy_gradients\n",
        "\n",
        "policy_gradients.run({\n",
        "    \"algorithm\": algorithm,\n",
        "    \"env_name\": env,\n",
        "    \"n_episodes\": 250,\n",
        "    \"log_period\": 10,\n",
        "    \"save_dir\": save_dir,\n",
        "    \"seed\": seed,\n",
        "})"
      ],
      "execution_count": 4,
      "outputs": [
        {
          "output_type": "stream",
          "text": [
            "/usr/local/lib/python3.6/dist-packages/gym/logger.py:30: UserWarning: \u001b[33mWARN: Box bound precision lowered by casting to float32\u001b[0m\n",
            "  warnings.warn(colorize('%s: %s'%('WARN', msg % args), 'yellow'))\n"
          ],
          "name": "stderr"
        },
        {
          "output_type": "stream",
          "text": [
            "Algorithm: sac\n",
            "Hyperparameters:\n",
            "{'algorithm': 'sac',\n",
            " 'alpha': 0.0003,\n",
            " 'batch_size': 256,\n",
            " 'env_name': 'InvertedPendulumBulletEnv-v0',\n",
            " 'epsilon': 1e-06,\n",
            " 'gamma': 0.99,\n",
            " 'hidden_features': [256, 256],\n",
            " 'log_period': 10,\n",
            " 'n_episodes': 250,\n",
            " 'replay_buffer_capacity': 1000000,\n",
            " 'reward_scale': 2.0,\n",
            " 'seed': 123456,\n",
            " 'tau': 0.005}\n",
            "Starting training...\n",
            "[2020-11-30T22:19:55] Episode 10; Return 53.0; Average return 28.1\n",
            "[2020-11-30T22:19:59] Episode 20; Return 13.0; Average return 26.65\n",
            "[2020-11-30T22:20:04] Episode 30; Return 17.0; Average return 29.133333333333333\n",
            "[2020-11-30T22:20:08] Episode 40; Return 37.0; Average return 29.6\n",
            "[2020-11-30T22:20:14] Episode 50; Return 62.0; Average return 33.16\n",
            "[2020-11-30T22:20:25] Episode 60; Return 69.0; Average return 41.0\n",
            "[2020-11-30T22:20:50] Episode 70; Return 161.0; Average return 61.77142857142857\n",
            "[2020-11-30T22:21:17] Episode 80; Return 128.0; Average return 79.6375\n",
            "[2020-11-30T22:21:41] Episode 90; Return 201.0; Average return 91.34444444444445\n",
            "[2020-11-30T22:22:07] Episode 100; Return 319.0; Average return 102.07\n",
            "[2020-11-30T22:22:37] Episode 110; Return 159.0; Average return 121.28\n",
            "[2020-11-30T22:23:03] Episode 120; Return 148.0; Average return 138.73\n",
            "[2020-11-30T22:23:32] Episode 130; Return 195.0; Average return 156.45\n",
            "[2020-11-30T22:24:02] Episode 140; Return 227.0; Average return 176.38\n",
            "[2020-11-30T22:24:30] Episode 150; Return 171.0; Average return 192.89\n",
            "[2020-11-30T22:25:04] Episode 160; Return 284.0; Average return 209.31\n",
            "[2020-11-30T22:25:34] Episode 170; Return 237.0; Average return 213.03\n",
            "[2020-11-30T22:26:04] Episode 180; Return 230.0; Average return 215.23\n",
            "[2020-11-30T22:26:42] Episode 190; Return 225.0; Average return 224.65\n",
            "[2020-11-30T22:27:43] Episode 200; Return 712.0; Average return 250.07\n",
            "[2020-11-30T22:29:44] Episode 210; Return 1000.0; Average return 317.57\n",
            "[2020-11-30T22:31:57] Episode 220; Return 1000.0; Average return 397.6\n",
            "[2020-11-30T22:34:12] Episode 230; Return 1000.0; Average return 476.47\n",
            "[2020-11-30T22:36:24] Episode 240; Return 1000.0; Average return 553.44\n",
            "[2020-11-30T22:38:37] Episode 250; Return 1000.0; Average return 632.19\n"
          ],
          "name": "stdout"
        },
        {
          "output_type": "display_data",
          "data": {
            "image/png": "[encoded data removed]",
            "text/plain": [
              "<Figure size 432x288 with 1 Axes>"
            ]
          },
          "metadata": {
            "tags": [],
            "needs_background": "light"
          }
        },
        {
          "output_type": "stream",
          "text": [
            "Finished training\n"
          ],
          "name": "stdout"
        },
        {
          "output_type": "execute_result",
          "data": {
            "text/plain": [
              "<policy_gradients.sac.agent.Agent at 0x7f9fe3f5f0f0>"
            ]
          },
          "metadata": {
            "tags": []
          },
          "execution_count": 4
        }
      ]
    },
    {
      "cell_type": "markdown",
      "metadata": {
        "id": "Ivuop3xKtGnB"
      },
      "source": [
        "## Download models"
      ]
    },
    {
      "cell_type": "code",
      "metadata": {
        "colab": {
          "base_uri": "https://localhost:8080/",
          "height": 102
        },
        "id": "jQfARw-hDJ4x",
        "outputId": "6bca20fd-5892-4850-c39e-056d0ac49502"
      },
      "source": [
        "!zip -r ./models.zip ./models/sac_InvertedPendulumBulletEnv-v0\n",
        "files.download('./models.zip')"
      ],
      "execution_count": 5,
      "outputs": [
        {
          "output_type": "stream",
          "text": [
            "updating: models/sac_InvertedPendulumBulletEnv-v0/ (stored 0%)\n",
            "updating: models/sac_InvertedPendulumBulletEnv-v0/critic_2.zip (stored 0%)\n",
            "updating: models/sac_InvertedPendulumBulletEnv-v0/value.zip (stored 0%)\n",
            "updating: models/sac_InvertedPendulumBulletEnv-v0/critic_1.zip (stored 0%)\n",
            "updating: models/sac_InvertedPendulumBulletEnv-v0/actor.zip (stored 0%)\n"
          ],
          "name": "stdout"
        },
        {
          "output_type": "display_data",
          "data": {
            "application/javascript": [
              "\n",
              "    async function download(id, filename, size) {\n",
              "      if (!google.colab.kernel.accessAllowed) {\n",
              "        return;\n",
              "      }\n",
              "      const div = document.createElement('div');\n",
              "      const label = document.createElement('label');\n",
              "      label.textContent = `Downloading \"${filename}\": `;\n",
              "      div.appendChild(label);\n",
              "      const progress = document.createElement('progress');\n",
              "      progress.max = size;\n",
              "      div.appendChild(progress);\n",
              "      document.body.appendChild(div);\n",
              "\n",
              "      const buffers = [];\n",
              "      let downloaded = 0;\n",
              "\n",
              "      const channel = await google.colab.kernel.comms.open(id);\n",
              "      // Send a message to notify the kernel that we're ready.\n",
              "      channel.send({})\n",
              "\n",
              "      for await (const message of channel.messages) {\n",
              "        // Send a message to notify the kernel that we're ready.\n",
              "        channel.send({})\n",
              "        if (message.buffers) {\n",
              "          for (const buffer of message.buffers) {\n",
              "            buffers.push(buffer);\n",
              "            downloaded += buffer.byteLength;\n",
              "            progress.value = downloaded;\n",
              "          }\n",
              "        }\n",
              "      }\n",
              "      const blob = new Blob(buffers, {type: 'application/binary'});\n",
              "      const a = document.createElement('a');\n",
              "      a.href = window.URL.createObjectURL(blob);\n",
              "      a.download = filename;\n",
              "      div.appendChild(a);\n",
              "      a.click();\n",
              "      div.remove();\n",
              "    }\n",
              "  "
            ],
            "text/plain": [
              "<IPython.core.display.Javascript object>"
            ]
          },
          "metadata": {
            "tags": []
          }
        },
        {
          "output_type": "display_data",
          "data": {
            "application/javascript": [
              "download(\"download_e668c39e-45c2-4a3a-b9c5-cc63e7707ba8\", \"models.zip\", 1096296)"
            ],
            "text/plain": [
              "<IPython.core.display.Javascript object>"
            ]
          },
          "metadata": {
            "tags": []
          }
        }
      ]
    },
    {
      "cell_type": "code",
      "metadata": {
        "id": "opXlY3lGWRBp"
      },
      "source": [
        ""
      ],
      "execution_count": 5,
      "outputs": []
    }
  ]
}