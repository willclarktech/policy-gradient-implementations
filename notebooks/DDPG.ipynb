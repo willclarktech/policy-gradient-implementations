{
  "nbformat": 4,
  "nbformat_minor": 0,
  "metadata": {
    "accelerator": "GPU",
    "colab": {
      "name": "Policy Gradient Implementations - DDPG.ipynb",
      "provenance": [],
      "collapsed_sections": [],
      "authorship_tag": "ABX9TyOltxnGR5MOX9Hu1CspWGrX",
      "include_colab_link": true
    },
    "kernelspec": {
      "display_name": "Python 3",
      "name": "python3"
    }
  },
  "cells": [
    {
      "cell_type": "markdown",
      "metadata": {
        "id": "view-in-github",
        "colab_type": "text"
      },
      "source": [
        "<a href=\"https://colab.research.google.com/github/willclarktech/policy-gradient-implementations/blob/master/notebooks/DDPG.ipynb\" target=\"_parent\"><img src=\"https://colab.research.google.com/assets/colab-badge.svg\" alt=\"Open In Colab\"/></a>"
      ]
    },
    {
      "cell_type": "markdown",
      "metadata": {
        "id": "33hjFad39Xvi"
      },
      "source": [
        "# Policy Gradient Implementations: DDPG"
      ]
    },
    {
      "cell_type": "code",
      "metadata": {
        "id": "aluhXzU2iIGs"
      },
      "source": [
        "%matplotlib inline\n",
        "import os\n",
        "from google.colab import files"
      ],
      "execution_count": 1,
      "outputs": []
    },
    {
      "cell_type": "code",
      "metadata": {
        "id": "qwZ58WlV8zy3"
      },
      "source": [
        "algorithm = \"ddpg\"\n",
        "env = \"LunarLanderContinuous-v2\"\n",
        "save_dir = \"models\"\n",
        "seed = 1234"
      ],
      "execution_count": 2,
      "outputs": []
    },
    {
      "cell_type": "markdown",
      "metadata": {
        "id": "RV9QxoTj9JmW"
      },
      "source": [
        "## Install policy-gradient-implementations"
      ]
    },
    {
      "cell_type": "code",
      "metadata": {
        "colab": {
          "base_uri": "https://localhost:8080/"
        },
        "id": "JUrMMU5ew0NC",
        "outputId": "6854450c-45c8-4e1b-ad94-5c912d87fc61"
      },
      "source": [
        "!if [ ! -d ./policy-gradient-implementations ]; then git clone --depth 1 --quiet https://github.com/willclarktech/policy-gradient-implementations.git; fi\n",
        "os.chdir('./policy-gradient-implementations/')\n",
        "print(f\"Now in {os.getcwd()} at commit:\")\n",
        "!git log --oneline -n 1\n",
        "os.makedirs(f\"{save_dir}/{algorithm}_{env}\", exist_ok=True)\n",
        "!if [ ! -z COLAB_GPU ]; then pip install --no-warn-conflicts -r requirements.colab.txt 2>&1 >/dev/null; else pip install -r requirements.txt; fi"
      ],
      "execution_count": 3,
      "outputs": [
        {
          "output_type": "stream",
          "text": [
            "Now in /content/policy-gradient-implementations at commit:\n",
            "\u001b[33m75045c0\u001b[m\u001b[33m (\u001b[m\u001b[1;34mgrafted\u001b[m\u001b[33m, \u001b[m\u001b[1;36mHEAD -> \u001b[m\u001b[1;32mmaster\u001b[m\u001b[33m, \u001b[m\u001b[1;31morigin/master\u001b[m\u001b[33m, \u001b[m\u001b[1;31morigin/HEAD\u001b[m\u001b[33m)\u001b[m :recycle: Update Actor-Critic model\n"
          ],
          "name": "stdout"
        }
      ]
    },
    {
      "cell_type": "markdown",
      "metadata": {
        "id": "R34nPPEg9T_5"
      },
      "source": [
        "## Run experiment"
      ]
    },
    {
      "cell_type": "code",
      "metadata": {
        "colab": {
          "base_uri": "https://localhost:8080/",
          "height": 771
        },
        "id": "9qgIl7_h_2kk",
        "outputId": "aec954c6-e786-4499-ff42-d23fdaf9a0f8"
      },
      "source": [
        "import policy_gradients\n",
        "\n",
        "policy_gradients.run({\n",
        "    \"algorithm\": algorithm,\n",
        "    \"env_name\": env,\n",
        "    \"n_episodes\": 1000,\n",
        "    \"log_period\": 100,\n",
        "    \"save_dir\": save_dir,\n",
        "    \"seed\": seed,\n",
        "})"
      ],
      "execution_count": 4,
      "outputs": [
        {
          "output_type": "stream",
          "text": [
            "Algorithm: ddpg\n",
            "Hyperparameters:\n",
            "{'algorithm': 'ddpg',\n",
            " 'alpha': 0.0001,\n",
            " 'batch_size': 64,\n",
            " 'beta': 0.001,\n",
            " 'env_name': 'LunarLanderContinuous-v2',\n",
            " 'gamma': 0.99,\n",
            " 'hidden_features': [400, 300],\n",
            " 'l2_weight_decay': 0.01,\n",
            " 'log_period': 100,\n",
            " 'n_episodes': 1000,\n",
            " 'replay_buffer_capacity': 1000000,\n",
            " 'seed': 1234,\n",
            " 'tau': 0.001}\n",
            "Starting training...\n",
            "[2020-11-30T20:49:10] Episode 100; Return -192.93627491746216; Average return -384.4355663907344\n",
            "[2020-11-30T21:00:19] Episode 200; Return -108.95394491805267; Average return -155.40713343749644\n",
            "[2020-11-30T21:12:01] Episode 300; Return -43.12942067578761; Average return 3.4416142704364416\n",
            "[2020-11-30T21:19:37] Episode 400; Return 177.12262736531278; Average return 121.0047276395578\n",
            "[2020-11-30T21:27:58] Episode 500; Return 131.5522698337722; Average return 195.4637310493282\n",
            "[2020-11-30T21:33:58] Episode 600; Return 260.51137248155385; Average return 233.44649248118148\n",
            "[2020-11-30T21:40:04] Episode 700; Return 246.29958638414723; Average return 232.70876494514604\n",
            "[2020-11-30T21:45:25] Episode 800; Return 286.3095953499393; Average return 240.19219270408112\n",
            "[2020-11-30T21:50:57] Episode 900; Return 265.64988308558793; Average return 236.3600942553423\n",
            "[2020-11-30T21:55:26] Episode 1000; Return 239.82643520777685; Average return 256.30313748752184\n"
          ],
          "name": "stdout"
        },
        {
          "output_type": "display_data",
          "data": {
            "image/png": "[encoded data removed]",
            "text/plain": [
              "<Figure size 432x288 with 1 Axes>"
            ]
          },
          "metadata": {
            "tags": [],
            "needs_background": "light"
          }
        },
        {
          "output_type": "stream",
          "text": [
            "Finished training\n"
          ],
          "name": "stdout"
        },
        {
          "output_type": "execute_result",
          "data": {
            "text/plain": [
              "<policy_gradients.ddpg.agent.Agent at 0x7f966a8e3c18>"
            ]
          },
          "metadata": {
            "tags": []
          },
          "execution_count": 4
        }
      ]
    },
    {
      "cell_type": "markdown",
      "metadata": {
        "id": "Ivuop3xKtGnB"
      },
      "source": [
        "## Download models"
      ]
    },
    {
      "cell_type": "code",
      "metadata": {
        "colab": {
          "base_uri": "https://localhost:8080/",
          "height": 68
        },
        "id": "jQfARw-hDJ4x",
        "outputId": "b6033609-6088-4308-fb74-669669a7bfdd"
      },
      "source": [
        "!zip -r ./models.zip ./models/ddpg_LunarLanderContinuous-v2\n",
        "files.download('./models.zip')"
      ],
      "execution_count": 5,
      "outputs": [
        {
          "output_type": "stream",
          "text": [
            "  adding: models/ddpg_LunarLanderContinuous-v2/ (stored 0%)\n",
            "  adding: models/ddpg_LunarLanderContinuous-v2/critic.zip (stored 0%)\n",
            "  adding: models/ddpg_LunarLanderContinuous-v2/actor.zip (stored 0%)\n"
          ],
          "name": "stdout"
        },
        {
          "output_type": "display_data",
          "data": {
            "application/javascript": [
              "\n",
              "    async function download(id, filename, size) {\n",
              "      if (!google.colab.kernel.accessAllowed) {\n",
              "        return;\n",
              "      }\n",
              "      const div = document.createElement('div');\n",
              "      const label = document.createElement('label');\n",
              "      label.textContent = `Downloading \"${filename}\": `;\n",
              "      div.appendChild(label);\n",
              "      const progress = document.createElement('progress');\n",
              "      progress.max = size;\n",
              "      div.appendChild(progress);\n",
              "      document.body.appendChild(div);\n",
              "\n",
              "      const buffers = [];\n",
              "      let downloaded = 0;\n",
              "\n",
              "      const channel = await google.colab.kernel.comms.open(id);\n",
              "      // Send a message to notify the kernel that we're ready.\n",
              "      channel.send({})\n",
              "\n",
              "      for await (const message of channel.messages) {\n",
              "        // Send a message to notify the kernel that we're ready.\n",
              "        channel.send({})\n",
              "        if (message.buffers) {\n",
              "          for (const buffer of message.buffers) {\n",
              "            buffers.push(buffer);\n",
              "            downloaded += buffer.byteLength;\n",
              "            progress.value = downloaded;\n",
              "          }\n",
              "        }\n",
              "      }\n",
              "      const blob = new Blob(buffers, {type: 'application/binary'});\n",
              "      const a = document.createElement('a');\n",
              "      a.href = window.URL.createObjectURL(blob);\n",
              "      a.download = filename;\n",
              "      div.appendChild(a);\n",
              "      a.click();\n",
              "      div.remove();\n",
              "    }\n",
              "  "
            ],
            "text/plain": [
              "<IPython.core.display.Javascript object>"
            ]
          },
          "metadata": {
            "tags": []
          }
        },
        {
          "output_type": "display_data",
          "data": {
            "application/javascript": [
              "download(\"download_3f6bfecb-fbf5-4f98-a03f-cebac4c78ef7\", \"models.zip\", 1018148)"
            ],
            "text/plain": [
              "<IPython.core.display.Javascript object>"
            ]
          },
          "metadata": {
            "tags": []
          }
        }
      ]
    },
    {
      "cell_type": "code",
      "metadata": {
        "id": "opXlY3lGWRBp"
      },
      "source": [
        ""
      ],
      "execution_count": null,
      "outputs": []
    }
  ]
}