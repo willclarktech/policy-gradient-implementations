{
  "nbformat": 4,
  "nbformat_minor": 0,
  "metadata": {
    "accelerator": "GPU",
    "colab": {
      "name": "Policy Gradient Implementations - REINFORCE.ipynb",
      "provenance": [],
      "collapsed_sections": [],
      "authorship_tag": "ABX9TyMe1nlDURxz7gLwCWm4BDQM",
      "include_colab_link": true
    },
    "kernelspec": {
      "display_name": "Python 3",
      "name": "python3"
    }
  },
  "cells": [
    {
      "cell_type": "markdown",
      "metadata": {
        "id": "view-in-github",
        "colab_type": "text"
      },
      "source": [
        "<a href=\"https://colab.research.google.com/github/willclarktech/policy-gradient-implementations/blob/master/notebooks/REINFORCE.ipynb\" target=\"_parent\"><img src=\"https://colab.research.google.com/assets/colab-badge.svg\" alt=\"Open In Colab\"/></a>"
      ]
    },
    {
      "cell_type": "markdown",
      "metadata": {
        "id": "33hjFad39Xvi"
      },
      "source": [
        "# Policy Gradient Implementations: REINFORCE"
      ]
    },
    {
      "cell_type": "code",
      "metadata": {
        "id": "aluhXzU2iIGs"
      },
      "source": [
        "%matplotlib inline\n",
        "import os\n",
        "from google.colab import files"
      ],
      "execution_count": 1,
      "outputs": []
    },
    {
      "cell_type": "code",
      "metadata": {
        "id": "qwZ58WlV8zy3"
      },
      "source": [
        "algorithm = \"reinforce\"\n",
        "env = \"LunarLander-v2\"\n",
        "save_dir = \"models\"\n",
        "seed = 1234"
      ],
      "execution_count": 2,
      "outputs": []
    },
    {
      "cell_type": "markdown",
      "metadata": {
        "id": "RV9QxoTj9JmW"
      },
      "source": [
        "## Install policy-gradient-implementations"
      ]
    },
    {
      "cell_type": "code",
      "metadata": {
        "colab": {
          "base_uri": "https://localhost:8080/"
        },
        "id": "JUrMMU5ew0NC",
        "outputId": "1d828630-c30e-48b3-8dd4-d967a0719960"
      },
      "source": [
        "!if [ ! -d ./policy-gradient-implementations ]; then git clone --depth 1 --quiet https://github.com/willclarktech/policy-gradient-implementations.git; fi\n",
        "os.chdir('./policy-gradient-implementations/')\n",
        "print(f\"Now in {os.getcwd()} at commit:\")\n",
        "!git log --oneline -n 1\n",
        "os.makedirs(f\"{save_dir}/{algorithm}_{env}\", exist_ok=True)\n",
        "!if [ ! -z COLAB_GPU ]; then pip install --no-warn-conflicts -r requirements.colab.txt 2>&1 >/dev/null; else pip install -r requirements.txt; fi"
      ],
      "execution_count": 3,
      "outputs": [
        {
          "output_type": "stream",
          "text": [
            "Now in /content/policy-gradient-implementations at commit:\n",
            "\u001b[33mc92176e\u001b[m\u001b[33m (\u001b[m\u001b[1;34mgrafted\u001b[m\u001b[33m, \u001b[m\u001b[1;36mHEAD -> \u001b[m\u001b[1;32mmaster\u001b[m\u001b[33m, \u001b[m\u001b[1;31morigin/master\u001b[m\u001b[33m, \u001b[m\u001b[1;31morigin/HEAD\u001b[m\u001b[33m)\u001b[m :recycle: Generalize mlp depth\n"
          ],
          "name": "stdout"
        }
      ]
    },
    {
      "cell_type": "markdown",
      "metadata": {
        "id": "R34nPPEg9T_5"
      },
      "source": [
        "## Run experiment"
      ]
    },
    {
      "cell_type": "code",
      "metadata": {
        "colab": {
          "base_uri": "https://localhost:8080/",
          "height": 1000
        },
        "id": "9qgIl7_h_2kk",
        "outputId": "b91bf15a-ae7a-4540-a154-4ec297c9a5ce"
      },
      "source": [
        "import policy_gradients\n",
        "\n",
        "policy_gradients.run({\n",
        "    \"algorithm\": algorithm,\n",
        "    \"env_name\": env,\n",
        "    \"n_episodes\": 3000,\n",
        "    \"log_period\": 100,\n",
        "    \"save_dir\": save_dir,\n",
        "    # \"seed\": seed, # Seed cannot be used on GPU: \"scatter_add_cuda_kernel does not have a deterministic implementation\"\n",
        "})"
      ],
      "execution_count": 4,
      "outputs": [
        {
          "output_type": "stream",
          "text": [
            "Algorithm: reinforce\n",
            "Hyperparameters:\n",
            "{'algorithm': 'reinforce',\n",
            " 'alpha': 0.0005,\n",
            " 'env_name': 'LunarLander-v2',\n",
            " 'gamma': 0.99,\n",
            " 'hidden_features': [128, 128],\n",
            " 'log_period': 100,\n",
            " 'n_episodes': 3000}\n",
            "Starting training...\n",
            "[2020-11-30T18:13:35] Episode 100; Return -311.17053533164074; Average return -183.60975855991921\n",
            "[2020-11-30T18:13:48] Episode 200; Return -135.72675875502688; Average return -174.67572548862142\n",
            "[2020-11-30T18:14:02] Episode 300; Return 19.244522419506524; Average return -162.73503913324822\n",
            "[2020-11-30T18:14:14] Episode 400; Return -58.14457568738391; Average return -139.05445560871476\n",
            "[2020-11-30T18:14:27] Episode 500; Return 0.5271705622942022; Average return -140.8843005052759\n",
            "[2020-11-30T18:14:41] Episode 600; Return -62.521010327945824; Average return -129.11463673736128\n",
            "[2020-11-30T18:14:54] Episode 700; Return -168.87234418040498; Average return -125.74953482821263\n",
            "[2020-11-30T18:15:07] Episode 800; Return -115.28502437835543; Average return -129.11784860166773\n",
            "[2020-11-30T18:15:21] Episode 900; Return -171.35794369503876; Average return -118.03128791028401\n",
            "[2020-11-30T18:15:33] Episode 1000; Return -369.0975958199119; Average return -114.28462718912778\n",
            "[2020-11-30T18:15:49] Episode 1100; Return -119.13817727644646; Average return -116.6361691104455\n",
            "[2020-11-30T18:16:03] Episode 1200; Return -85.09361585225649; Average return -125.91729040368467\n",
            "[2020-11-30T18:16:17] Episode 1300; Return -68.66271423288725; Average return -100.85296787321823\n",
            "[2020-11-30T18:16:32] Episode 1400; Return -81.86994220051665; Average return -102.17075616602935\n",
            "[2020-11-30T18:16:47] Episode 1500; Return -32.24355738682647; Average return -91.3120231932644\n",
            "[2020-11-30T18:17:07] Episode 1600; Return -57.83799103692569; Average return -65.55493829134107\n",
            "[2020-11-30T18:17:34] Episode 1700; Return -28.225814906426734; Average return -50.640415558341275\n",
            "[2020-11-30T18:18:15] Episode 1800; Return -6.7022541483098905; Average return -45.414840419243156\n",
            "[2020-11-30T18:19:59] Episode 1900; Return -10.067964461409659; Average return -37.994348300515405\n",
            "[2020-11-30T18:22:04] Episode 2000; Return 57.52221541963389; Average return -21.86202847935691\n",
            "[2020-11-30T18:24:04] Episode 2100; Return 57.40013628336874; Average return 20.090028136603827\n",
            "[2020-11-30T18:26:49] Episode 2200; Return -98.06127211106741; Average return 42.96886770017857\n",
            "[2020-11-30T18:29:59] Episode 2300; Return 92.52479344536223; Average return 73.61393597161289\n",
            "[2020-11-30T18:33:14] Episode 2400; Return -16.7282650876126; Average return 80.32347794982859\n",
            "[2020-11-30T18:36:41] Episode 2500; Return 21.036897117481843; Average return 103.0226451954708\n",
            "[2020-11-30T18:40:25] Episode 2600; Return 153.31769364987974; Average return 105.62154688653139\n",
            "[2020-11-30T18:44:15] Episode 2700; Return 122.99270403045233; Average return 108.0471346770311\n",
            "[2020-11-30T18:48:17] Episode 2800; Return 51.43404981910914; Average return 102.06046834003284\n",
            "[2020-11-30T18:51:51] Episode 2900; Return -85.94544255627564; Average return 98.56815423185415\n",
            "[2020-11-30T18:55:21] Episode 3000; Return 160.6286086692527; Average return 105.60182947199225\n"
          ],
          "name": "stdout"
        },
        {
          "output_type": "display_data",
          "data": {
            "image/png": "[encoded data removed]",
            "text/plain": [
              "<Figure size 432x288 with 1 Axes>"
            ]
          },
          "metadata": {
            "tags": [],
            "needs_background": "light"
          }
        },
        {
          "output_type": "stream",
          "text": [
            "Finished training\n"
          ],
          "name": "stdout"
        },
        {
          "output_type": "execute_result",
          "data": {
            "text/plain": [
              "<policy_gradients.reinforce.agent.Agent at 0x7faf3e6b5dd8>"
            ]
          },
          "metadata": {
            "tags": []
          },
          "execution_count": 4
        }
      ]
    },
    {
      "cell_type": "markdown",
      "metadata": {
        "id": "Ivuop3xKtGnB"
      },
      "source": [
        "## Download models"
      ]
    },
    {
      "cell_type": "code",
      "metadata": {
        "colab": {
          "base_uri": "https://localhost:8080/",
          "height": 51
        },
        "id": "jQfARw-hDJ4x",
        "outputId": "5ce3da2c-fee7-41dd-e601-1feafc5dbc00"
      },
      "source": [
        "!zip -r ./models.zip ./models/reinforce_LunarLander-v2\n",
        "files.download('./models.zip')"
      ],
      "execution_count": 5,
      "outputs": [
        {
          "output_type": "stream",
          "text": [
            "  adding: models/reinforce_LunarLander-v2/ (stored 0%)\n",
            "  adding: models/reinforce_LunarLander-v2/policy.zip (stored 0%)\n"
          ],
          "name": "stdout"
        },
        {
          "output_type": "display_data",
          "data": {
            "application/javascript": [
              "\n",
              "    async function download(id, filename, size) {\n",
              "      if (!google.colab.kernel.accessAllowed) {\n",
              "        return;\n",
              "      }\n",
              "      const div = document.createElement('div');\n",
              "      const label = document.createElement('label');\n",
              "      label.textContent = `Downloading \"${filename}\": `;\n",
              "      div.appendChild(label);\n",
              "      const progress = document.createElement('progress');\n",
              "      progress.max = size;\n",
              "      div.appendChild(progress);\n",
              "      document.body.appendChild(div);\n",
              "\n",
              "      const buffers = [];\n",
              "      let downloaded = 0;\n",
              "\n",
              "      const channel = await google.colab.kernel.comms.open(id);\n",
              "      // Send a message to notify the kernel that we're ready.\n",
              "      channel.send({})\n",
              "\n",
              "      for await (const message of channel.messages) {\n",
              "        // Send a message to notify the kernel that we're ready.\n",
              "        channel.send({})\n",
              "        if (message.buffers) {\n",
              "          for (const buffer of message.buffers) {\n",
              "            buffers.push(buffer);\n",
              "            downloaded += buffer.byteLength;\n",
              "            progress.value = downloaded;\n",
              "          }\n",
              "        }\n",
              "      }\n",
              "      const blob = new Blob(buffers, {type: 'application/binary'});\n",
              "      const a = document.createElement('a');\n",
              "      a.href = window.URL.createObjectURL(blob);\n",
              "      a.download = filename;\n",
              "      div.appendChild(a);\n",
              "      a.click();\n",
              "      div.remove();\n",
              "    }\n",
              "  "
            ],
            "text/plain": [
              "<IPython.core.display.Javascript object>"
            ]
          },
          "metadata": {
            "tags": []
          }
        },
        {
          "output_type": "display_data",
          "data": {
            "application/javascript": [
              "download(\"download_3166d261-9f47-4e55-933a-975884dc4c29\", \"models.zip\", 75499)"
            ],
            "text/plain": [
              "<IPython.core.display.Javascript object>"
            ]
          },
          "metadata": {
            "tags": []
          }
        }
      ]
    },
    {
      "cell_type": "code",
      "metadata": {
        "id": "opXlY3lGWRBp"
      },
      "source": [
        ""
      ],
      "execution_count": 5,
      "outputs": []
    }
  ]
}