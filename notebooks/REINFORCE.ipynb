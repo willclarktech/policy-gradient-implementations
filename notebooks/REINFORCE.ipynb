{
  "nbformat": 4,
  "nbformat_minor": 0,
  "metadata": {
    "accelerator": "GPU",
    "colab": {
      "name": "Policy Gradient Implementations - REINFORCE.ipynb",
      "provenance": [],
      "collapsed_sections": [],
      "authorship_tag": "ABX9TyOFfXUalvCsaCvDeXD/9E7c",
      "include_colab_link": true
    },
    "kernelspec": {
      "display_name": "Python 3",
      "name": "python3"
    }
  },
  "cells": [
    {
      "cell_type": "markdown",
      "metadata": {
        "id": "view-in-github",
        "colab_type": "text"
      },
      "source": [
        "<a href=\"https://colab.research.google.com/github/willclarktech/policy-gradient-implementations/blob/master/notebooks/REINFORCE.ipynb\" target=\"_parent\"><img src=\"https://colab.research.google.com/assets/colab-badge.svg\" alt=\"Open In Colab\"/></a>"
      ]
    },
    {
      "cell_type": "markdown",
      "metadata": {
        "id": "33hjFad39Xvi"
      },
      "source": [
        "# Policy Gradient Implementations: REINFORCE"
      ]
    },
    {
      "cell_type": "code",
      "metadata": {
        "id": "aluhXzU2iIGs"
      },
      "source": [
        "%matplotlib inline\n",
        "import os"
      ],
      "execution_count": 1,
      "outputs": []
    },
    {
      "cell_type": "code",
      "metadata": {
        "id": "qwZ58WlV8zy3"
      },
      "source": [
        "algorithm = \"reinforce\"\n",
        "env = \"LunarLander-v2\"\n",
        "save_dir = \"models\""
      ],
      "execution_count": 2,
      "outputs": []
    },
    {
      "cell_type": "markdown",
      "metadata": {
        "id": "RV9QxoTj9JmW"
      },
      "source": [
        "## Install policy-gradient-implementations"
      ]
    },
    {
      "cell_type": "code",
      "metadata": {
        "id": "JUrMMU5ew0NC",
        "colab": {
          "base_uri": "https://localhost:8080/"
        },
        "outputId": "95381775-b23e-4147-ab09-66a7624f1b5d"
      },
      "source": [
        "!if [ ! -d ./policy-gradient-implementations ]; then git clone --quiet https://github.com/willclarktech/policy-gradient-implementations.git; fi\n",
        "os.chdir('./policy-gradient-implementations/')\n",
        "print(f\"Now in: {os.getcwd()}\")\n",
        "os.makedirs(f\"{save_dir}/{algorithm}_{env}\", exist_ok=True)\n",
        "!if [ ! -z COLAB_GPU ]; then pip install --no-warn-conflicts -r requirements.colab.txt 2>&1 >/dev/null; else pip install -r requirements.txt; fi"
      ],
      "execution_count": 3,
      "outputs": [
        {
          "output_type": "stream",
          "text": [
            "Now in: /content/policy-gradient-implementations\n"
          ],
          "name": "stdout"
        }
      ]
    },
    {
      "cell_type": "markdown",
      "metadata": {
        "id": "R34nPPEg9T_5"
      },
      "source": [
        "## Run experiment"
      ]
    },
    {
      "cell_type": "code",
      "metadata": {
        "id": "9qgIl7_h_2kk",
        "colab": {
          "base_uri": "https://localhost:8080/",
          "height": 1000
        },
        "outputId": "b734bb63-2fb9-4c41-892d-4b53ad79e6b9"
      },
      "source": [
        "import policy_gradients\n",
        "\n",
        "policy_gradients.run({\n",
        "    \"algorithm\": algorithm,\n",
        "    \"env_name\": env,\n",
        "    \"n_episodes\": 3000,\n",
        "    \"log_period\": 100,\n",
        "    \"save_dir\": save_dir,\n",
        "})"
      ],
      "execution_count": 4,
      "outputs": [
        {
          "output_type": "stream",
          "text": [
            "Algorithm: reinforce\n",
            "Hyperparameters:\n",
            "{'algorithm': 'reinforce',\n",
            " 'alpha': 0.0005,\n",
            " 'env_name': 'LunarLander-v2',\n",
            " 'gamma': 0.99,\n",
            " 'hidden_features': [128, 128],\n",
            " 'log_period': 100,\n",
            " 'n_episodes': 3000}\n",
            "Starting training...\n",
            "Episode 100; Return -150.55578786476403; Average return -180.8925448896368\n",
            "Episode 200; Return -56.42796247730348; Average return -179.31204635188055\n",
            "Episode 300; Return -115.01200317036215; Average return -142.8513625230507\n",
            "Episode 400; Return -92.24490764978965; Average return -135.0397177275529\n",
            "Episode 500; Return -98.02814977190856; Average return -122.32756234045365\n",
            "Episode 600; Return -116.89064538653471; Average return -131.45938177739689\n",
            "Episode 700; Return -90.78501396505219; Average return -118.8270715541063\n",
            "Episode 800; Return -117.90628448308965; Average return -112.10501316587897\n",
            "Episode 900; Return -69.96339199432808; Average return -119.78469849639662\n",
            "Episode 1000; Return -86.04660769881795; Average return -104.57159780894955\n",
            "Episode 1100; Return -63.186381247032436; Average return -70.68360291483333\n",
            "Episode 1200; Return -23.619733148178398; Average return -56.362452037164886\n",
            "Episode 1300; Return -30.917918217334304; Average return -59.06738234569253\n",
            "Episode 1400; Return -190.16916795557853; Average return -33.073509378794455\n",
            "Episode 1500; Return 9.08266218650401; Average return -16.57572529752488\n",
            "Episode 1600; Return 32.36802093282981; Average return -10.256578032832651\n",
            "Episode 1700; Return -66.7682531877185; Average return 7.924770556059592\n",
            "Episode 1800; Return -202.54136150566322; Average return 2.440654522452837\n",
            "Episode 1900; Return -280.40308570174454; Average return 18.848131132835285\n",
            "Episode 2000; Return 153.53504355614206; Average return -3.6223382714277346\n",
            "Episode 2100; Return -179.9958879826769; Average return 25.036428975288718\n",
            "Episode 2200; Return 9.85172716570385; Average return 41.11878926085319\n",
            "Episode 2300; Return -7.76248540877441; Average return 21.763973230919436\n",
            "Episode 2400; Return 181.98917665979548; Average return 89.14387928476106\n",
            "Episode 2500; Return 287.61944790443107; Average return 67.11952917032063\n",
            "Episode 2600; Return -163.32027682238845; Average return 100.21482853580176\n",
            "Episode 2700; Return -54.53362599822033; Average return 127.61674660106138\n",
            "Episode 2800; Return 146.2062335538807; Average return 118.23941257457636\n",
            "Episode 2900; Return 196.50004420448596; Average return 129.21061246689268\n",
            "Episode 3000; Return 273.16556219045333; Average return 123.86520478105903\n"
          ],
          "name": "stdout"
        },
        {
          "output_type": "display_data",
          "data": {
            "image/png": "[encoded data removed]",
            "text/plain": [
              "<Figure size 432x288 with 1 Axes>"
            ]
          },
          "metadata": {
            "tags": [],
            "needs_background": "light"
          }
        },
        {
          "output_type": "stream",
          "text": [
            "Finished training\n"
          ],
          "name": "stdout"
        },
        {
          "output_type": "execute_result",
          "data": {
            "text/plain": [
              "<policy_gradients.reinforce.agent.Agent at 0x7f6a8d762da0>"
            ]
          },
          "metadata": {
            "tags": []
          },
          "execution_count": 4
        }
      ]
    },
    {
      "cell_type": "markdown",
      "metadata": {
        "id": "Ivuop3xKtGnB"
      },
      "source": [
        "## Download models"
      ]
    },
    {
      "cell_type": "code",
      "metadata": {
        "colab": {
          "base_uri": "https://localhost:8080/",
          "height": 52
        },
        "id": "jQfARw-hDJ4x",
        "outputId": "df2e079c-63ee-414d-d686-605115ea898f"
      },
      "source": [
        "!zip -r ./models.zip ./models/reinforce_LunarLander-v2\n",
        "from google.colab import files\n",
        "files.download('./models.zip')"
      ],
      "execution_count": 5,
      "outputs": [
        {
          "output_type": "stream",
          "text": [
            "updating: models/reinforce_LunarLander-v2/ (stored 0%)\n",
            "updating: models/reinforce_LunarLander-v2/policy.zip (stored 0%)\n"
          ],
          "name": "stdout"
        },
        {
          "output_type": "display_data",
          "data": {
            "application/javascript": [
              "\n",
              "    async function download(id, filename, size) {\n",
              "      if (!google.colab.kernel.accessAllowed) {\n",
              "        return;\n",
              "      }\n",
              "      const div = document.createElement('div');\n",
              "      const label = document.createElement('label');\n",
              "      label.textContent = `Downloading \"${filename}\": `;\n",
              "      div.appendChild(label);\n",
              "      const progress = document.createElement('progress');\n",
              "      progress.max = size;\n",
              "      div.appendChild(progress);\n",
              "      document.body.appendChild(div);\n",
              "\n",
              "      const buffers = [];\n",
              "      let downloaded = 0;\n",
              "\n",
              "      const channel = await google.colab.kernel.comms.open(id);\n",
              "      // Send a message to notify the kernel that we're ready.\n",
              "      channel.send({})\n",
              "\n",
              "      for await (const message of channel.messages) {\n",
              "        // Send a message to notify the kernel that we're ready.\n",
              "        channel.send({})\n",
              "        if (message.buffers) {\n",
              "          for (const buffer of message.buffers) {\n",
              "            buffers.push(buffer);\n",
              "            downloaded += buffer.byteLength;\n",
              "            progress.value = downloaded;\n",
              "          }\n",
              "        }\n",
              "      }\n",
              "      const blob = new Blob(buffers, {type: 'application/binary'});\n",
              "      const a = document.createElement('a');\n",
              "      a.href = window.URL.createObjectURL(blob);\n",
              "      a.download = filename;\n",
              "      div.appendChild(a);\n",
              "      a.click();\n",
              "      div.remove();\n",
              "    }\n",
              "  "
            ],
            "text/plain": [
              "<IPython.core.display.Javascript object>"
            ]
          },
          "metadata": {
            "tags": []
          }
        },
        {
          "output_type": "display_data",
          "data": {
            "application/javascript": [
              "download(\"download_a9606438-9a3f-4a9e-920f-99ca78d35534\", \"models.zip\", 75435)"
            ],
            "text/plain": [
              "<IPython.core.display.Javascript object>"
            ]
          },
          "metadata": {
            "tags": []
          }
        }
      ]
    },
    {
      "cell_type": "code",
      "metadata": {
        "id": "opXlY3lGWRBp"
      },
      "source": [
        ""
      ],
      "execution_count": 5,
      "outputs": []
    }
  ]
}