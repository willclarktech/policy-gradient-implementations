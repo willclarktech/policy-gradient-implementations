{
  "nbformat": 4,
  "nbformat_minor": 0,
  "metadata": {
    "colab": {
      "name": "Policy Gradient Implementations - Actor-Critic.ipynb",
      "provenance": [],
      "collapsed_sections": [],
      "authorship_tag": "ABX9TyM8n9Ivz1sesaM52M4hGZbm",
      "include_colab_link": true
    },
    "kernelspec": {
      "display_name": "Python 3",
      "name": "python3"
    },
    "accelerator": "GPU"
  },
  "cells": [
    {
      "cell_type": "markdown",
      "metadata": {
        "id": "view-in-github",
        "colab_type": "text"
      },
      "source": [
        "<a href=\"https://colab.research.google.com/github/willclarktech/policy-gradient-implementations/blob/master/notebooks/Actor_Critic.ipynb\" target=\"_parent\"><img src=\"https://colab.research.google.com/assets/colab-badge.svg\" alt=\"Open In Colab\"/></a>"
      ]
    },
    {
      "cell_type": "markdown",
      "metadata": {
        "id": "33hjFad39Xvi"
      },
      "source": [
        "# Policy Gradient Implementations: Actor-Critic"
      ]
    },
    {
      "cell_type": "code",
      "metadata": {
        "id": "aluhXzU2iIGs"
      },
      "source": [
        "%matplotlib inline\n",
        "import os\n",
        "from google.colab import files"
      ],
      "execution_count": 1,
      "outputs": []
    },
    {
      "cell_type": "code",
      "metadata": {
        "id": "qwZ58WlV8zy3"
      },
      "source": [
        "algorithm = \"actor_critic\"\n",
        "env = \"LunarLander-v2\"\n",
        "save_dir = \"models\"\n",
        "seed = 1234"
      ],
      "execution_count": 2,
      "outputs": []
    },
    {
      "cell_type": "markdown",
      "metadata": {
        "id": "RV9QxoTj9JmW"
      },
      "source": [
        "## Install policy-gradient-implementations"
      ]
    },
    {
      "cell_type": "code",
      "metadata": {
        "id": "JUrMMU5ew0NC",
        "colab": {
          "base_uri": "https://localhost:8080/"
        },
        "outputId": "639c203f-644a-414c-bba4-3cda544415cf"
      },
      "source": [
        "!if [ ! -d ./policy-gradient-implementations ]; then git clone --depth 1 --quiet https://github.com/willclarktech/policy-gradient-implementations.git; fi\n",
        "os.chdir('./policy-gradient-implementations/')\n",
        "print(f\"Now in {os.getcwd()} at commit:\")\n",
        "!git log --oneline -n 1\n",
        "os.makedirs(f\"{save_dir}/{algorithm}_{env}\", exist_ok=True)\n",
        "!if [ ! -z COLAB_GPU ]; then pip install --no-warn-conflicts -r requirements.colab.txt 2>&1 >/dev/null; else pip install -r requirements.txt; fi"
      ],
      "execution_count": 3,
      "outputs": [
        {
          "output_type": "stream",
          "text": [
            "Now in /content/policy-gradient-implementations at commit:\n",
            "\u001b[33mc92176e\u001b[m\u001b[33m (\u001b[m\u001b[1;34mgrafted\u001b[m\u001b[33m, \u001b[m\u001b[1;36mHEAD -> \u001b[m\u001b[1;32mmaster\u001b[m\u001b[33m, \u001b[m\u001b[1;31morigin/master\u001b[m\u001b[33m, \u001b[m\u001b[1;31morigin/HEAD\u001b[m\u001b[33m)\u001b[m :recycle: Generalize mlp depth\n"
          ],
          "name": "stdout"
        }
      ]
    },
    {
      "cell_type": "markdown",
      "metadata": {
        "id": "R34nPPEg9T_5"
      },
      "source": [
        "## Run experiment"
      ]
    },
    {
      "cell_type": "code",
      "metadata": {
        "id": "9qgIl7_h_2kk",
        "colab": {
          "base_uri": "https://localhost:8080/",
          "height": 839
        },
        "outputId": "a69f9693-3d5f-4f87-e53a-5b3056fbcab8"
      },
      "source": [
        "import policy_gradients\n",
        "\n",
        "policy_gradients.run({\n",
        "    \"algorithm\": algorithm,\n",
        "    \"env_name\": env,\n",
        "    \"n_episodes\": 2000,\n",
        "    \"log_period\": 100,\n",
        "    \"save_dir\": save_dir,\n",
        "    # \"seed\": seed, # Seed cannot be used on GPU: \"scatter_add_cuda_kernel does not have a deterministic implementation\"\n",
        "})"
      ],
      "execution_count": 4,
      "outputs": [
        {
          "output_type": "stream",
          "text": [
            "Algorithm: actor_critic\n",
            "Hyperparameters:\n",
            "{'algorithm': 'actor_critic',\n",
            " 'alpha': 5e-06,\n",
            " 'env_name': 'LunarLander-v2',\n",
            " 'gamma': 0.99,\n",
            " 'hidden_features': [2048, 1536],\n",
            " 'log_period': 100,\n",
            " 'n_episodes': 2000}\n",
            "Starting training...\n",
            "[2020-11-30T18:40:45] Episode 100; Return -526.4973537158521; Average return -206.38685428627767\n",
            "[2020-11-30T18:42:21] Episode 200; Return -104.35205514038975; Average return -179.80745018101706\n",
            "[2020-11-30T18:44:20] Episode 300; Return -73.8451501703098; Average return -170.15415843809777\n",
            "[2020-11-30T18:47:14] Episode 400; Return -80.64543531939881; Average return -128.09969089908049\n",
            "[2020-11-30T18:50:49] Episode 500; Return -219.15538388028483; Average return -96.66449273091126\n",
            "[2020-11-30T18:55:28] Episode 600; Return -181.31941869703857; Average return -64.77247312878362\n",
            "[2020-11-30T19:00:30] Episode 700; Return 255.29244049706722; Average return -42.41118529126346\n",
            "[2020-11-30T19:05:13] Episode 800; Return -30.51719891430946; Average return -35.7114093171899\n",
            "[2020-11-30T19:09:55] Episode 900; Return -100.57680267708353; Average return -15.040344865171562\n",
            "[2020-11-30T19:13:55] Episode 1000; Return -152.0427831173862; Average return 39.60451709279272\n",
            "[2020-11-30T19:17:55] Episode 1100; Return 274.25096035349964; Average return 23.770282537366505\n",
            "[2020-11-30T19:22:05] Episode 1200; Return -56.638755475889226; Average return 81.92343290177782\n",
            "[2020-11-30T19:26:12] Episode 1300; Return 182.67802399655272; Average return 68.66308119290707\n",
            "[2020-11-30T19:30:23] Episode 1400; Return -3.787929011274798; Average return 57.91076309260814\n",
            "[2020-11-30T19:35:26] Episode 1500; Return 219.1215616353085; Average return 114.29896206487257\n",
            "[2020-11-30T19:40:27] Episode 1600; Return 1.2473837773054584; Average return 111.34608116942135\n",
            "[2020-11-30T19:45:10] Episode 1700; Return 215.2045275390235; Average return 113.58328037147803\n",
            "[2020-11-30T19:50:33] Episode 1800; Return 157.37203567737276; Average return 127.91610437961967\n",
            "[2020-11-30T19:55:55] Episode 1900; Return 201.44827432143694; Average return 135.38591009024336\n",
            "[2020-11-30T20:00:35] Episode 2000; Return 174.53029203850863; Average return 124.5291498068059\n"
          ],
          "name": "stdout"
        },
        {
          "output_type": "display_data",
          "data": {
            "image/png": "[encoded data removed]",
            "text/plain": [
              "<Figure size 432x288 with 1 Axes>"
            ]
          },
          "metadata": {
            "tags": [],
            "needs_background": "light"
          }
        },
        {
          "output_type": "stream",
          "text": [
            "Finished training\n"
          ],
          "name": "stdout"
        },
        {
          "output_type": "execute_result",
          "data": {
            "text/plain": [
              "<policy_gradients.actor_critic.agent.Agent at 0x7fdbca88dc50>"
            ]
          },
          "metadata": {
            "tags": []
          },
          "execution_count": 4
        }
      ]
    },
    {
      "cell_type": "markdown",
      "metadata": {
        "id": "Ivuop3xKtGnB"
      },
      "source": [
        "## Download models"
      ]
    },
    {
      "cell_type": "code",
      "metadata": {
        "id": "jQfARw-hDJ4x",
        "colab": {
          "base_uri": "https://localhost:8080/",
          "height": 85
        },
        "outputId": "4f4f2fc0-3ee1-4564-c42b-1a5d871d797d"
      },
      "source": [
        "!zip -r ./models.zip ./models/actor_critic_LunarLander-v2\n",
        "files.download('./models.zip')"
      ],
      "execution_count": 5,
      "outputs": [
        {
          "output_type": "stream",
          "text": [
            "  adding: models/actor_critic_LunarLander-v2/ (stored 0%)\n",
            "  adding: models/actor_critic_LunarLander-v2/pi.zip (stored 0%)\n",
            "  adding: models/actor_critic_LunarLander-v2/V.zip (stored 0%)\n",
            "  adding: models/actor_critic_LunarLander-v2/network.zip (stored 0%)\n"
          ],
          "name": "stdout"
        },
        {
          "output_type": "display_data",
          "data": {
            "application/javascript": [
              "\n",
              "    async function download(id, filename, size) {\n",
              "      if (!google.colab.kernel.accessAllowed) {\n",
              "        return;\n",
              "      }\n",
              "      const div = document.createElement('div');\n",
              "      const label = document.createElement('label');\n",
              "      label.textContent = `Downloading \"${filename}\": `;\n",
              "      div.appendChild(label);\n",
              "      const progress = document.createElement('progress');\n",
              "      progress.max = size;\n",
              "      div.appendChild(progress);\n",
              "      document.body.appendChild(div);\n",
              "\n",
              "      const buffers = [];\n",
              "      let downloaded = 0;\n",
              "\n",
              "      const channel = await google.colab.kernel.comms.open(id);\n",
              "      // Send a message to notify the kernel that we're ready.\n",
              "      channel.send({})\n",
              "\n",
              "      for await (const message of channel.messages) {\n",
              "        // Send a message to notify the kernel that we're ready.\n",
              "        channel.send({})\n",
              "        if (message.buffers) {\n",
              "          for (const buffer of message.buffers) {\n",
              "            buffers.push(buffer);\n",
              "            downloaded += buffer.byteLength;\n",
              "            progress.value = downloaded;\n",
              "          }\n",
              "        }\n",
              "      }\n",
              "      const blob = new Blob(buffers, {type: 'application/binary'});\n",
              "      const a = document.createElement('a');\n",
              "      a.href = window.URL.createObjectURL(blob);\n",
              "      a.download = filename;\n",
              "      div.appendChild(a);\n",
              "      a.click();\n",
              "      div.remove();\n",
              "    }\n",
              "  "
            ],
            "text/plain": [
              "<IPython.core.display.Javascript object>"
            ]
          },
          "metadata": {
            "tags": []
          }
        },
        {
          "output_type": "display_data",
          "data": {
            "application/javascript": [
              "download(\"download_b17370e6-f184-4a28-96b5-bfd303f032f2\", \"models.zip\", 12698437)"
            ],
            "text/plain": [
              "<IPython.core.display.Javascript object>"
            ]
          },
          "metadata": {
            "tags": []
          }
        }
      ]
    },
    {
      "cell_type": "code",
      "metadata": {
        "id": "opXlY3lGWRBp"
      },
      "source": [
        ""
      ],
      "execution_count": 5,
      "outputs": []
    }
  ]
}