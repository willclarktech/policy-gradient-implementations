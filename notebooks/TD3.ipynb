{
  "nbformat": 4,
  "nbformat_minor": 0,
  "metadata": {
    "accelerator": "GPU",
    "colab": {
      "name": "Policy Gradient Implementations - TD3.ipynb",
      "provenance": [],
      "collapsed_sections": [],
      "authorship_tag": "ABX9TyPuUm+mArJsa3/LuWqGNt7H",
      "include_colab_link": true
    },
    "kernelspec": {
      "display_name": "Python 3",
      "name": "python3"
    }
  },
  "cells": [
    {
      "cell_type": "markdown",
      "metadata": {
        "id": "view-in-github",
        "colab_type": "text"
      },
      "source": [
        "<a href=\"https://colab.research.google.com/github/willclarktech/policy-gradient-implementations/blob/master/notebooks/TD3.ipynb\" target=\"_parent\"><img src=\"https://colab.research.google.com/assets/colab-badge.svg\" alt=\"Open In Colab\"/></a>"
      ]
    },
    {
      "cell_type": "markdown",
      "metadata": {
        "id": "33hjFad39Xvi"
      },
      "source": [
        "# Policy Gradient Implementations: TD3"
      ]
    },
    {
      "cell_type": "code",
      "metadata": {
        "id": "aluhXzU2iIGs"
      },
      "source": [
        "%matplotlib inline\n",
        "import os\n",
        "from google.colab import files"
      ],
      "execution_count": 1,
      "outputs": []
    },
    {
      "cell_type": "code",
      "metadata": {
        "id": "qwZ58WlV8zy3"
      },
      "source": [
        "algorithm = \"td3\"\n",
        "env = \"LunarLanderContinuous-v2\"\n",
        "save_dir = \"models\""
      ],
      "execution_count": 2,
      "outputs": []
    },
    {
      "cell_type": "markdown",
      "metadata": {
        "id": "RV9QxoTj9JmW"
      },
      "source": [
        "## Install policy-gradient-implementations"
      ]
    },
    {
      "cell_type": "code",
      "metadata": {
        "colab": {
          "base_uri": "https://localhost:8080/"
        },
        "id": "JUrMMU5ew0NC",
        "outputId": "4f5134d5-a470-47a2-ae16-90afd90701c9"
      },
      "source": [
        "!if [ ! -d ./policy-gradient-implementations ]; then git clone --depth 1 --quiet https://github.com/willclarktech/policy-gradient-implementations.git; fi\n",
        "os.chdir('./policy-gradient-implementations/')\n",
        "print(f\"Now in {os.getcwd()} at commit:\")\n",
        "!git log --oneline -n 1\n",
        "os.makedirs(f\"{save_dir}/{algorithm}_{env}\", exist_ok=True)\n",
        "!if [ ! -z COLAB_GPU ]; then pip install --no-warn-conflicts -r requirements.colab.txt 2>&1 >/dev/null; else pip install -r requirements.txt; fi"
      ],
      "execution_count": 3,
      "outputs": [
        {
          "output_type": "stream",
          "text": [
            "Now in /content/policy-gradient-implementations at commit:\n",
            "\u001b[33ma5b3313\u001b[m\u001b[33m (\u001b[m\u001b[1;34mgrafted\u001b[m\u001b[33m, \u001b[m\u001b[1;36mHEAD -> \u001b[m\u001b[1;32mmaster\u001b[m\u001b[33m, \u001b[m\u001b[1;31morigin/master\u001b[m\u001b[33m, \u001b[m\u001b[1;31morigin/HEAD\u001b[m\u001b[33m)\u001b[m :bug: Fix TD3 devices\n"
          ],
          "name": "stdout"
        }
      ]
    },
    {
      "cell_type": "markdown",
      "metadata": {
        "id": "R34nPPEg9T_5"
      },
      "source": [
        "## Run experiment"
      ]
    },
    {
      "cell_type": "code",
      "metadata": {
        "colab": {
          "base_uri": "https://localhost:8080/",
          "height": 771
        },
        "id": "9qgIl7_h_2kk",
        "outputId": "ff44a781-0873-462d-b1ec-ab6a42e80f00"
      },
      "source": [
        "import policy_gradients\n",
        "\n",
        "policy_gradients.run({\n",
        "    \"algorithm\": algorithm,\n",
        "    \"env_name\": env,\n",
        "    \"n_episodes\": 1000,\n",
        "    \"log_period\": 100,\n",
        "    \"save_dir\": save_dir,\n",
        "})"
      ],
      "execution_count": 4,
      "outputs": [
        {
          "output_type": "stream",
          "text": [
            "Algorithm: td3\n",
            "Hyperparameters:\n",
            "{'algorithm': 'td3',\n",
            " 'alpha': 0.001,\n",
            " 'batch_size': 100,\n",
            " 'd': 2,\n",
            " 'env_name': 'LunarLanderContinuous-v2',\n",
            " 'gamma': 0.99,\n",
            " 'hidden_features': [256, 256],\n",
            " 'log_period': 100,\n",
            " 'n_episodes': 1000,\n",
            " 'noise': 0.2,\n",
            " 'noise_clip': 0.5,\n",
            " 'replay_buffer_capacity': 1000000,\n",
            " 'tau': 0.005}\n",
            "Starting training...\n",
            "Episode 100; Return -62.78221738548802; Average return -192.66418804317226\n",
            "Episode 200; Return 252.71088719899103; Average return 113.92126437418365\n",
            "Episode 300; Return 188.19698449263285; Average return 164.79280529147084\n",
            "Episode 400; Return -34.2688918817548; Average return 229.8182567224937\n",
            "Episode 500; Return 170.66192057783002; Average return 248.86188884155735\n",
            "Episode 600; Return 275.9953725755317; Average return 252.31311495099374\n",
            "Episode 700; Return 292.12876638430066; Average return 264.25798221191263\n",
            "Episode 800; Return 285.5958009232211; Average return 267.6540908018793\n",
            "Episode 900; Return 268.84913740815233; Average return 274.6023486091477\n",
            "Episode 1000; Return 298.59112979994177; Average return 269.2255425300945\n"
          ],
          "name": "stdout"
        },
        {
          "output_type": "display_data",
          "data": {
            "image/png": "[encoded data removed]",
            "text/plain": [
              "<Figure size 432x288 with 1 Axes>"
            ]
          },
          "metadata": {
            "tags": [],
            "needs_background": "light"
          }
        },
        {
          "output_type": "stream",
          "text": [
            "Finished training\n"
          ],
          "name": "stdout"
        },
        {
          "output_type": "execute_result",
          "data": {
            "text/plain": [
              "<policy_gradients.td3.agent.Agent at 0x7f8c20dddd30>"
            ]
          },
          "metadata": {
            "tags": []
          },
          "execution_count": 4
        }
      ]
    },
    {
      "cell_type": "markdown",
      "metadata": {
        "id": "Ivuop3xKtGnB"
      },
      "source": [
        "## Download models"
      ]
    },
    {
      "cell_type": "code",
      "metadata": {
        "colab": {
          "base_uri": "https://localhost:8080/",
          "height": 68
        },
        "id": "jQfARw-hDJ4x",
        "outputId": "95676d69-6811-431f-e581-548712a9cc6d"
      },
      "source": [
        "!zip -r ./models.zip ./models/ddpg_LunarLanderContinuous-v2\n",
        "files.download('./models.zip')"
      ],
      "execution_count": 5,
      "outputs": [
        {
          "output_type": "stream",
          "text": [
            "  adding: models/ddpg_LunarLanderContinuous-v2/ (stored 0%)\n",
            "  adding: models/ddpg_LunarLanderContinuous-v2/actor.zip (stored 0%)\n",
            "  adding: models/ddpg_LunarLanderContinuous-v2/critic.zip (stored 0%)\n"
          ],
          "name": "stdout"
        },
        {
          "output_type": "display_data",
          "data": {
            "application/javascript": [
              "\n",
              "    async function download(id, filename, size) {\n",
              "      if (!google.colab.kernel.accessAllowed) {\n",
              "        return;\n",
              "      }\n",
              "      const div = document.createElement('div');\n",
              "      const label = document.createElement('label');\n",
              "      label.textContent = `Downloading \"${filename}\": `;\n",
              "      div.appendChild(label);\n",
              "      const progress = document.createElement('progress');\n",
              "      progress.max = size;\n",
              "      div.appendChild(progress);\n",
              "      document.body.appendChild(div);\n",
              "\n",
              "      const buffers = [];\n",
              "      let downloaded = 0;\n",
              "\n",
              "      const channel = await google.colab.kernel.comms.open(id);\n",
              "      // Send a message to notify the kernel that we're ready.\n",
              "      channel.send({})\n",
              "\n",
              "      for await (const message of channel.messages) {\n",
              "        // Send a message to notify the kernel that we're ready.\n",
              "        channel.send({})\n",
              "        if (message.buffers) {\n",
              "          for (const buffer of message.buffers) {\n",
              "            buffers.push(buffer);\n",
              "            downloaded += buffer.byteLength;\n",
              "            progress.value = downloaded;\n",
              "          }\n",
              "        }\n",
              "      }\n",
              "      const blob = new Blob(buffers, {type: 'application/binary'});\n",
              "      const a = document.createElement('a');\n",
              "      a.href = window.URL.createObjectURL(blob);\n",
              "      a.download = filename;\n",
              "      div.appendChild(a);\n",
              "      a.click();\n",
              "      div.remove();\n",
              "    }\n",
              "  "
            ],
            "text/plain": [
              "<IPython.core.display.Javascript object>"
            ]
          },
          "metadata": {
            "tags": []
          }
        },
        {
          "output_type": "display_data",
          "data": {
            "application/javascript": [
              "download(\"download_140dfc62-64fc-4b6a-8cf2-e984aa27d2a5\", \"models.zip\", 1019108)"
            ],
            "text/plain": [
              "<IPython.core.display.Javascript object>"
            ]
          },
          "metadata": {
            "tags": []
          }
        }
      ]
    },
    {
      "cell_type": "code",
      "metadata": {
        "id": "opXlY3lGWRBp"
      },
      "source": [
        ""
      ],
      "execution_count": 5,
      "outputs": []
    }
  ]
}