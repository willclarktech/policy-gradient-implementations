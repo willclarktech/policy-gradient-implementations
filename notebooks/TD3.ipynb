{
  "nbformat": 4,
  "nbformat_minor": 0,
  "metadata": {
    "accelerator": "GPU",
    "colab": {
      "name": "Policy Gradient Implementations - TD3.ipynb",
      "provenance": [],
      "collapsed_sections": [],
      "authorship_tag": "ABX9TyOcWv+3W8I3+dRdfj7SOb2y",
      "include_colab_link": true
    },
    "kernelspec": {
      "display_name": "Python 3",
      "name": "python3"
    }
  },
  "cells": [
    {
      "cell_type": "markdown",
      "metadata": {
        "id": "view-in-github",
        "colab_type": "text"
      },
      "source": [
        "<a href=\"https://colab.research.google.com/github/willclarktech/policy-gradient-implementations/blob/master/notebooks/TD3.ipynb\" target=\"_parent\"><img src=\"https://colab.research.google.com/assets/colab-badge.svg\" alt=\"Open In Colab\"/></a>"
      ]
    },
    {
      "cell_type": "markdown",
      "metadata": {
        "id": "33hjFad39Xvi"
      },
      "source": [
        "# Policy Gradient Implementations: TD3"
      ]
    },
    {
      "cell_type": "code",
      "metadata": {
        "id": "aluhXzU2iIGs"
      },
      "source": [
        "%matplotlib inline\n",
        "import os\n",
        "from google.colab import files"
      ],
      "execution_count": 1,
      "outputs": []
    },
    {
      "cell_type": "code",
      "metadata": {
        "id": "qwZ58WlV8zy3"
      },
      "source": [
        "algorithm = \"td3\"\n",
        "env = \"LunarLanderContinuous-v2\"\n",
        "save_dir = \"models\"\n",
        "seed = 1234"
      ],
      "execution_count": 2,
      "outputs": []
    },
    {
      "cell_type": "markdown",
      "metadata": {
        "id": "RV9QxoTj9JmW"
      },
      "source": [
        "## Install policy-gradient-implementations"
      ]
    },
    {
      "cell_type": "code",
      "metadata": {
        "colab": {
          "base_uri": "https://localhost:8080/"
        },
        "id": "JUrMMU5ew0NC",
        "outputId": "5e9dc3a0-b4e3-4a6d-9bda-2a43a0b7ee91"
      },
      "source": [
        "!if [ ! -d ./policy-gradient-implementations ]; then git clone --depth 1 --quiet https://github.com/willclarktech/policy-gradient-implementations.git; fi\n",
        "os.chdir('./policy-gradient-implementations/')\n",
        "print(f\"Now in {os.getcwd()} at commit:\")\n",
        "!git log --oneline -n 1\n",
        "os.makedirs(f\"{save_dir}/{algorithm}_{env}\", exist_ok=True)\n",
        "!if [ ! -z COLAB_GPU ]; then pip install --no-warn-conflicts -r requirements.colab.txt 2>&1 >/dev/null; else pip install -r requirements.txt; fi"
      ],
      "execution_count": 3,
      "outputs": [
        {
          "output_type": "stream",
          "text": [
            "Now in /content/policy-gradient-implementations at commit:\n",
            "\u001b[33med562dd\u001b[m\u001b[33m (\u001b[m\u001b[1;34mgrafted\u001b[m\u001b[33m, \u001b[m\u001b[1;36mHEAD -> \u001b[m\u001b[1;32mmaster\u001b[m\u001b[33m, \u001b[m\u001b[1;31morigin/master\u001b[m\u001b[33m, \u001b[m\u001b[1;31morigin/HEAD\u001b[m\u001b[33m)\u001b[m :recycle: Update DDPG model\n"
          ],
          "name": "stdout"
        }
      ]
    },
    {
      "cell_type": "markdown",
      "metadata": {
        "id": "R34nPPEg9T_5"
      },
      "source": [
        "## Run experiment"
      ]
    },
    {
      "cell_type": "code",
      "metadata": {
        "colab": {
          "base_uri": "https://localhost:8080/",
          "height": 788
        },
        "id": "9qgIl7_h_2kk",
        "outputId": "74bd18c0-f546-46c4-9095-2a14470337af"
      },
      "source": [
        "import policy_gradients\n",
        "\n",
        "policy_gradients.run({\n",
        "    \"algorithm\": algorithm,\n",
        "    \"env_name\": env,\n",
        "    \"n_episodes\": 1000,\n",
        "    \"log_period\": 100,\n",
        "    \"save_dir\": save_dir,\n",
        "    \"seed\": seed,\n",
        "})"
      ],
      "execution_count": 4,
      "outputs": [
        {
          "output_type": "stream",
          "text": [
            "Algorithm: td3\n",
            "Hyperparameters:\n",
            "{'algorithm': 'td3',\n",
            " 'alpha': 0.001,\n",
            " 'batch_size': 100,\n",
            " 'd': 2,\n",
            " 'env_name': 'LunarLanderContinuous-v2',\n",
            " 'gamma': 0.99,\n",
            " 'hidden_features': [256, 256],\n",
            " 'log_period': 100,\n",
            " 'n_episodes': 1000,\n",
            " 'noise': 0.2,\n",
            " 'noise_clip': 0.5,\n",
            " 'replay_buffer_capacity': 1000000,\n",
            " 'seed': 1234,\n",
            " 'tau': 0.005}\n",
            "Starting training...\n",
            "[2020-11-30T22:12:44] Episode 100; Return -50.6863476429161; Average return -314.7231284384592\n",
            "[2020-11-30T22:25:47] Episode 200; Return 241.8694383397958; Average return 25.45347662085538\n",
            "[2020-11-30T22:33:19] Episode 300; Return 264.72953938292477; Average return 179.20591728523817\n",
            "[2020-11-30T22:38:01] Episode 400; Return 250.90672404618704; Average return 232.93142345641175\n",
            "[2020-11-30T22:42:38] Episode 500; Return 257.93447443317916; Average return 254.05067233732603\n",
            "[2020-11-30T22:47:01] Episode 600; Return 293.779422008338; Average return 244.72537212568554\n",
            "[2020-11-30T22:50:47] Episode 700; Return 31.68259584418462; Average return 265.2802370330157\n",
            "[2020-11-30T22:54:25] Episode 800; Return 298.97862861005825; Average return 269.9507583999765\n",
            "[2020-11-30T22:57:42] Episode 900; Return 274.765362405982; Average return 271.7345843753363\n",
            "[2020-11-30T23:00:47] Episode 1000; Return 269.27701140346045; Average return 276.8559900951406\n"
          ],
          "name": "stdout"
        },
        {
          "output_type": "display_data",
          "data": {
            "image/png": "[encoded data removed]",
            "text/plain": [
              "<Figure size 432x288 with 1 Axes>"
            ]
          },
          "metadata": {
            "tags": [],
            "needs_background": "light"
          }
        },
        {
          "output_type": "stream",
          "text": [
            "Finished training\n"
          ],
          "name": "stdout"
        },
        {
          "output_type": "execute_result",
          "data": {
            "text/plain": [
              "<policy_gradients.td3.agent.Agent at 0x7f91cbd12f98>"
            ]
          },
          "metadata": {
            "tags": []
          },
          "execution_count": 4
        }
      ]
    },
    {
      "cell_type": "markdown",
      "metadata": {
        "id": "Ivuop3xKtGnB"
      },
      "source": [
        "## Download models"
      ]
    },
    {
      "cell_type": "code",
      "metadata": {
        "colab": {
          "base_uri": "https://localhost:8080/",
          "height": 85
        },
        "id": "jQfARw-hDJ4x",
        "outputId": "751be951-ce65-4254-8c28-e7646657d079"
      },
      "source": [
        "!zip -r ./models.zip ./models/td3_LunarLanderContinuous-v2\n",
        "files.download('./models.zip')"
      ],
      "execution_count": 5,
      "outputs": [
        {
          "output_type": "stream",
          "text": [
            "  adding: models/td3_LunarLanderContinuous-v2/ (stored 0%)\n",
            "  adding: models/td3_LunarLanderContinuous-v2/critic_2.zip (stored 0%)\n",
            "  adding: models/td3_LunarLanderContinuous-v2/critic_1.zip (stored 0%)\n",
            "  adding: models/td3_LunarLanderContinuous-v2/actor.zip (stored 0%)\n"
          ],
          "name": "stdout"
        },
        {
          "output_type": "display_data",
          "data": {
            "application/javascript": [
              "\n",
              "    async function download(id, filename, size) {\n",
              "      if (!google.colab.kernel.accessAllowed) {\n",
              "        return;\n",
              "      }\n",
              "      const div = document.createElement('div');\n",
              "      const label = document.createElement('label');\n",
              "      label.textContent = `Downloading \"${filename}\": `;\n",
              "      div.appendChild(label);\n",
              "      const progress = document.createElement('progress');\n",
              "      progress.max = size;\n",
              "      div.appendChild(progress);\n",
              "      document.body.appendChild(div);\n",
              "\n",
              "      const buffers = [];\n",
              "      let downloaded = 0;\n",
              "\n",
              "      const channel = await google.colab.kernel.comms.open(id);\n",
              "      // Send a message to notify the kernel that we're ready.\n",
              "      channel.send({})\n",
              "\n",
              "      for await (const message of channel.messages) {\n",
              "        // Send a message to notify the kernel that we're ready.\n",
              "        channel.send({})\n",
              "        if (message.buffers) {\n",
              "          for (const buffer of message.buffers) {\n",
              "            buffers.push(buffer);\n",
              "            downloaded += buffer.byteLength;\n",
              "            progress.value = downloaded;\n",
              "          }\n",
              "        }\n",
              "      }\n",
              "      const blob = new Blob(buffers, {type: 'application/binary'});\n",
              "      const a = document.createElement('a');\n",
              "      a.href = window.URL.createObjectURL(blob);\n",
              "      a.download = filename;\n",
              "      div.appendChild(a);\n",
              "      a.click();\n",
              "      div.remove();\n",
              "    }\n",
              "  "
            ],
            "text/plain": [
              "<IPython.core.display.Javascript object>"
            ]
          },
          "metadata": {
            "tags": []
          }
        },
        {
          "output_type": "display_data",
          "data": {
            "application/javascript": [
              "download(\"download_5cbf8d7f-b061-4593-99ee-3c15b7edf6c3\", \"models.zip\", 833949)"
            ],
            "text/plain": [
              "<IPython.core.display.Javascript object>"
            ]
          },
          "metadata": {
            "tags": []
          }
        }
      ]
    },
    {
      "cell_type": "code",
      "metadata": {
        "id": "opXlY3lGWRBp"
      },
      "source": [
        ""
      ],
      "execution_count": 5,
      "outputs": []
    }
  ]
}